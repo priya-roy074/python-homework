{
 "cells": [
  {
   "cell_type": "code",
   "execution_count": 17,
   "metadata": {},
   "outputs": [],
   "source": [
    "#import the CSV file\n",
    "from pathlib import Path\n",
    "import os, csv\n",
    "import csv"
   ]
  },
  {
   "cell_type": "code",
   "execution_count": 18,
   "metadata": {},
   "outputs": [],
   "source": [
    "file_path = Path(\"C:/Users/18574/Desktop/FinTech/Homework/02-Python/Instructions/PyBank/Resources/budget_data.csv\")"
   ]
  },
  {
   "cell_type": "code",
   "execution_count": 19,
   "metadata": {},
   "outputs": [
    {
     "name": "stdout",
     "output_type": "stream",
     "text": [
      "<class '_io.TextIOWrapper'>\n"
     ]
    }
   ],
   "source": [
    "with open(file_path, 'r') as csvfile:\n",
    "    print(type(csvfile))\n",
    "\n",
    "    csvreader = csv.reader(csvfile, delimiter = \",\")"
   ]
  },
  {
   "cell_type": "code",
   "execution_count": 37,
   "metadata": {},
   "outputs": [],
   "source": [
    "#create empty lists\n",
    "total_months = []  \n",
    "total_profit = []\n",
    "monthly_profit_delta = []\n"
   ]
  },
  {
   "cell_type": "code",
   "execution_count": 38,
   "metadata": {},
   "outputs": [],
   "source": [
    "#skip header rows append the total months and total profit to their appropriate lists\n",
    "with open(file_path,newline=\"\", encoding=\"utf-8\") as budget:\n",
    "    csvreader = csv.reader(budget,delimiter=\",\") \n",
    "    header = next(csvreader) \n",
    "    for row in csvreader:\n",
    "        total_months.append(row[0])\n",
    "        total_profit.append(int(row[1]))\n",
    "#iterate profits/losses to get delta in monthly profits. Take delta\n",
    "    for delta in range(len(total_profit)-1):\n",
    "        monthly_profit_delta.append(total_profit[delta+1]-total_profit[delta])"
   ]
  },
  {
   "cell_type": "code",
   "execution_count": 40,
   "metadata": {},
   "outputs": [],
   "source": [
    "#Retrieve greatest increase and decrease in the monthly profit delta list\n",
    "\n",
    "max_delta_value = max(monthly_profit_delta)\n",
    "min_delta_value = min(monthly_profit_delta)"
   ]
  },
  {
   "cell_type": "code",
   "execution_count": 41,
   "metadata": {},
   "outputs": [],
   "source": [
    "# Match max and min to the month using month list and index from max and min - used the plus 1 as month paired with change is next month\n",
    "max_delta_month = monthly_profit_delta.index(max(monthly_profit_delta)) + 1\n",
    "min_delta_month = monthly_profit_delta.index(min(monthly_profit_delta)) + 1 "
   ]
  },
  {
   "cell_type": "code",
   "execution_count": 43,
   "metadata": {},
   "outputs": [
    {
     "name": "stdout",
     "output_type": "stream",
     "text": [
      "Financial Analysis\n",
      "--------------------------------------------------\n",
      "Total Months: 86\n",
      "Total: $38382578\n",
      "Average Change: -2315.12\n",
      "Greatest Increase in Profits: Feb-2012 ($1926159)\n",
      "Greatest Decrease in Profits: Sep-2013 ($-2196167)\n"
     ]
    }
   ],
   "source": [
    "print(\"Financial Analysis\")\n",
    "print(\"--------------------------------------------------\")\n",
    "print(f\"Total Months: {len(total_months)}\")\n",
    "print(f\"Total: ${sum(total_profit)}\")\n",
    "print(f\"Average Change: {round(sum(monthly_profit_delta)/len(monthly_profit_delta),2)}\")\n",
    "print(f\"Greatest Increase in Profits: {total_months[max_delta_month]} (${(str(max_delta_value))})\")\n",
    "print(f\"Greatest Decrease in Profits: {total_months[min_delta_month]} (${(str(min_delta_value))})\")"
   ]
  },
  {
   "cell_type": "code",
   "execution_count": 49,
   "metadata": {},
   "outputs": [],
   "source": [
    "#create output\n",
    "\n",
    "output_file = Path(\"C:/Users/18574/Desktop/FinTech/Homework/02-Python/python-homework/PyBank/Financial_Analysis_Summary.txt\")\n",
    "\n",
    "with open(output_file,\"w\") as file:\n",
    "    \n",
    "    file.write(\"Financial Analysis\")\n",
    "    \n",
    "    file.write(\"\\n\")\n",
    "    \n",
    "    file.write(\"----------------------------------------------------------\")\n",
    "    \n",
    "    file.write(\"\\n\")\n",
    "    \n",
    "    file.write(f\"Total Months: {len(total_months)}\")\n",
    "    \n",
    "    file.write(\"\\n\")\n",
    "    \n",
    "    file.write(f\"Total: ${sum(total_profit)}\")\n",
    "    \n",
    "    file.write(\"\\n\")\n",
    "    \n",
    "    file.write(f\"Average Change: {round(sum(monthly_profit_delta)/len(monthly_profit_delta),2)}\")\n",
    "    \n",
    "    file.write(\"\\n\")\n",
    "    \n",
    "    file.write(f\"Greatest Increase in Profits: {total_months[max_delta_month]} (${(str(max_delta_value))})\")\n",
    "    \n",
    "    file.write(\"\\n\")\n",
    "    \n",
    "    file.write(f\"Greatest Decrease in Profits: {total_months[min_delta_month]} (${(str(min_delta_value))})\")\n",
    "    "
   ]
  },
  {
   "cell_type": "code",
   "execution_count": null,
   "metadata": {},
   "outputs": [],
   "source": []
  }
 ],
 "metadata": {
  "kernelspec": {
   "display_name": "Python 3",
   "language": "python",
   "name": "python3"
  },
  "language_info": {
   "codemirror_mode": {
    "name": "ipython",
    "version": 3
   },
   "file_extension": ".py",
   "mimetype": "text/x-python",
   "name": "python",
   "nbconvert_exporter": "python",
   "pygments_lexer": "ipython3",
   "version": "3.8.3"
  }
 },
 "nbformat": 4,
 "nbformat_minor": 4
}
